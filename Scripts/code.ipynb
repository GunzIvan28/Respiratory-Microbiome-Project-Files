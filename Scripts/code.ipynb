{
 "cells": [
  {
   "cell_type": "code",
   "execution_count": 4,
   "metadata": {},
   "outputs": [
    {
     "name": "stdout",
     "output_type": "stream",
     "text": [
      "Number of IDs in list.txt: 100\n",
      "Number of rows appended: 100\n"
     ]
    }
   ],
   "source": [
    "#To ensure that all IDs found are appended to `file.xlsx` and to confirm that the number of IDs in `list.txt` is equal to the rows appended in `file.xlsx`, you can modify the code as follows:\n",
    "\n",
    "import pandas as pd\n",
    "import os\n",
    "\n",
    "# Read the list of IDs from list.txt\n",
    "with open('list.txt', 'r') as file:\n",
    "    ids_to_check = file.read().splitlines()\n",
    "\n",
    "# Read the Excel file\n",
    "df = pd.read_excel('../../controls-negative.xlsx')\n",
    "\n",
    "# Check if the file exists, if not create it with headers\n",
    "if not os.path.exists('file.xlsx'):\n",
    "    df.head(0).to_excel('file.xlsx', index=False)\n",
    "\n",
    "# Initialize a list to store rows to be appended\n",
    "rows_to_append = []\n",
    "\n",
    "# Iterate through the list of IDs and check if they exist in the first column of the Excel file\n",
    "for id in ids_to_check:\n",
    "    if id in df.iloc[:, 0].values:\n",
    "        # Select the row corresponding to the ID\n",
    "        row = df[df.iloc[:, 0] == id]\n",
    "        rows_to_append.append(row)\n",
    "\n",
    "# Concatenate all rows to be appended\n",
    "rows_to_append_df = pd.concat(rows_to_append)\n",
    "\n",
    "# Append all rows to the Excel file\n",
    "with pd.ExcelWriter('file.xlsx', mode='a', if_sheet_exists='overlay') as writer:\n",
    "    rows_to_append_df.to_excel(writer, index=False, header=False)\n",
    "\n",
    "# Confirm the number of rows appended\n",
    "print(f\"Number of IDs in list.txt: {len(ids_to_check)}\")\n",
    "print(f\"Number of rows appended: {len(rows_to_append_df)}\")\n",
    "\n",
    "\n",
    "#This code collects all rows to be appended in a list and concatenates them into a single DataFrame before appending them to `file.xlsx`. It also prints the number of IDs in `list.txt` and the number of rows appended to `file.xlsx` for confirmation."
   ]
  },
  {
   "cell_type": "code",
   "execution_count": 1,
   "metadata": {},
   "outputs": [],
   "source": [
    "\n",
    "import pandas as pd\n",
    "import os\n",
    "\n",
    "# Read the list of IDs from list.txt\n",
    "with open('list.txt', 'r') as file:\n",
    "    ids_to_check = file.read().splitlines()\n",
    "\n",
    "# Read the Excel file\n",
    "df = pd.read_excel('../../controls-negative.xlsx')\n",
    "\n",
    "# Check if the file exists, if not create it with headers\n",
    "if not os.path.exists('file.xlsx'):\n",
    "    df.head(0).to_excel('file.xlsx', index=False)\n",
    "\n",
    "# Iterate through the list of IDs and check if they exist in the first column of the Excel file\n",
    "for id in ids_to_check:\n",
    "    if id in df.iloc[:, 0].values:\n",
    "        # Select the row corresponding to the ID\n",
    "        row = df[df.iloc[:, 0] == id]\n",
    "        \n",
    "        # Append the row to the Excel file\n",
    "        with pd.ExcelWriter('file.xlsx', mode='a', if_sheet_exists='overlay') as writer:\n",
    "            row.to_excel(writer, index=False, header=False)"
   ]
  },
  {
   "cell_type": "code",
   "execution_count": null,
   "metadata": {},
   "outputs": [],
   "source": [
    "!sed -i 's/Added participant: //g' file.txt"
   ]
  },
  {
   "cell_type": "code",
   "execution_count": null,
   "metadata": {},
   "outputs": [],
   "source": [
    "import pandas as pd\n",
    "import os\n",
    "\n",
    "# Read the list of IDs from list.txt\n",
    "with open('list.txt', 'r') as file:\n",
    "    ids_to_check = file.read().splitlines()\n",
    "    # print(ids_to_check)\n",
    "\n",
    "try:\n",
    "    # Check if the file is a valid Excel file\n",
    "    if not os.path.exists('../../controls-negative.xlsx') or not pd.ExcelFile('../../controls-negative.xlsx'):\n",
    "        raise ValueError(\"File is not a valid Excel file\")\n",
    "    \n",
    "    # Read the Excel file\n",
    "    df = pd.read_excel('../../controls-negative.xlsx')\n",
    "    # print(df[:])\n",
    "except Exception as e:\n",
    "    print(f\"Error reading Excel file: {e}\")\n",
    "    df = pd.DataFrame()  # Create an empty DataFrame if reading fails\n",
    "\n",
    "for id in ids_to_check:\n",
    "    if id in df.iloc[:, 0].values:\n",
    "        # Select the row corresponding to the ID\n",
    "        row = df[df.iloc[:, 0] == id]\n",
    "        # print(row)\n",
    "        with pd.ExcelWriter('file.xlsx', mode='a', if_sheet_exists='overlay') as writer:\n",
    "            row.to_excel(writer, index=False, header=False)"
   ]
  },
  {
   "cell_type": "code",
   "execution_count": null,
   "metadata": {
    "vscode": {
     "languageId": "markdown"
    }
   },
   "outputs": [],
   "source": [
    "pip install xlrd\n",
    "pip install pandas\n"
   ]
  },
  {
   "cell_type": "code",
   "execution_count": null,
   "metadata": {
    "vscode": {
     "languageId": "markdown"
    }
   },
   "outputs": [],
   "source": [
    "pip install openpyxl"
   ]
  },
  {
   "cell_type": "code",
   "execution_count": null,
   "metadata": {
    "vscode": {
     "languageId": "markdown"
    }
   },
   "outputs": [],
   "source": [
    "# Upgrade pip\n",
    "%pip install --upgrade pip"
   ]
  },
  {
   "cell_type": "code",
   "execution_count": null,
   "metadata": {
    "vscode": {
     "languageId": "markdown"
    }
   },
   "outputs": [],
   "source": []
  }
 ],
 "metadata": {
  "kernelspec": {
   "display_name": "Python 3",
   "language": "python",
   "name": "python3"
  },
  "language_info": {
   "codemirror_mode": {
    "name": "ipython",
    "version": 3
   },
   "file_extension": ".py",
   "mimetype": "text/x-python",
   "name": "python",
   "nbconvert_exporter": "python",
   "pygments_lexer": "ipython3",
   "version": "3.13.0"
  }
 },
 "nbformat": 4,
 "nbformat_minor": 2
}
